{
  "nbformat": 4,
  "nbformat_minor": 0,
  "metadata": {
    "colab": {
      "name": "Data_preprocessing.ipynb",
      "provenance": [],
      "collapsed_sections": []
    },
    "kernelspec": {
      "name": "python3",
      "display_name": "Python 3"
    },
    "language_info": {
      "name": "python"
    }
  },
  "cells": [
    {
      "cell_type": "markdown",
      "source": [
        "#Data preprocessing :"
      ],
      "metadata": {
        "id": "-gk7Wp-HFEgx"
      }
    },
    {
      "cell_type": "markdown",
      "source": [
        "###Text Preprocessing.\n",
        "Now that we have finished deduplication our data requires some preprocessing before we go on further with analysis and making the prediction model.\n",
        "\n",
        "Hence in the Preprocessing phase we do the following in the order below:-\n",
        "*   Begin by removing the html tags.\n",
        "*   Remove any punctuations or limited set of special characters like , or . or etc.\n",
        "*   Check if the word is made up of english letters and is not alpha-numeric.\n",
        "*   Check to see if the length of the word is greater than 2 (as it was researched that there is no adjective in 2-letters).\n",
        "*   Convert the word to lowercase.\n",
        "*   Finally Snowball Stemming the word (it was obsereved to be better than Porter Stemming)."
      ],
      "metadata": {
        "id": "M_7gP0tlLIIk"
      }
    },
    {
      "cell_type": "markdown",
      "source": [
        "#### Preprocessing Categorical Features: "
      ],
      "metadata": {
        "id": "ZDgBp2IbyhBg"
      }
    },
    {
      "cell_type": "code",
      "source": [
        "# chech different categories in Account_Type\n",
        "final_nps_data['Account_Type'].value_counts()"
      ],
      "metadata": {
        "colab": {
          "base_uri": "https://localhost:8080/"
        },
        "id": "LMH78haUuaV8",
        "outputId": "aac7a36f-286b-4f27-961a-421342fb772c"
      },
      "execution_count": null,
      "outputs": [
        {
          "output_type": "execute_result",
          "data": {
            "text/plain": [
              "Broker                      2448\n",
              "General Agent                932\n",
              "Point of Sale                620\n",
              "Web Aggregator               612\n",
              "Direct - Personal            468\n",
              "Direct - Staff               437\n",
              "MISP                         140\n",
              "Direct - Corporate           138\n",
              "Corporate Bank                64\n",
              "Corporate Agent Others        10\n",
              "Insurance Marketing Firm       2\n",
              "Name: Account_Type, dtype: int64"
            ]
          },
          "metadata": {},
          "execution_count": 135
        }
      ]
    },
    {
      "cell_type": "code",
      "source": [
        "final_nps_data['Account_Type'] = final_nps_data['Account_Type'].str.replace(' ','_')\n",
        "final_nps_data['Account_Type'] = final_nps_data['Account_Type'].str.replace('-','_')\n",
        "final_nps_data['Account_Type'] = final_nps_data['Account_Type'].str.lower()\n",
        "final_nps_data['Account_Type'].value_counts()"
      ],
      "metadata": {
        "colab": {
          "base_uri": "https://localhost:8080/"
        },
        "id": "xchcEp68urJr",
        "outputId": "d41fa576-508b-4bab-9fe0-f5641350257d"
      },
      "execution_count": null,
      "outputs": [
        {
          "output_type": "execute_result",
          "data": {
            "text/plain": [
              "broker                      2448\n",
              "general_agent                932\n",
              "point_of_sale                620\n",
              "web_aggregator               612\n",
              "direct___personal            468\n",
              "direct___staff               437\n",
              "misp                         140\n",
              "direct___corporate           138\n",
              "corporate_bank                64\n",
              "corporate_agent_others        10\n",
              "insurance_marketing_firm       2\n",
              "Name: Account_Type, dtype: int64"
            ]
          },
          "metadata": {},
          "execution_count": 136
        }
      ]
    },
    {
      "cell_type": "code",
      "source": [
        "# chech different categories in Contract_Type\n",
        "final_nps_data['Contract_Type'].value_counts()"
      ],
      "metadata": {
        "colab": {
          "base_uri": "https://localhost:8080/"
        },
        "id": "wdKRRsf8ukRA",
        "outputId": "f4ab287d-c61e-4636-bfa4-3892e171b2d2"
      },
      "execution_count": null,
      "outputs": [
        {
          "output_type": "execute_result",
          "data": {
            "text/plain": [
              "FUTURE SECURE PRIVATE CAR                                2073\n",
              "Future Secure Private Car                                 613\n",
              "MISP SECURE PRIVATE CAR                                   584\n",
              "Private Car OD Only                                       563\n",
              "Future Secure Motor Insurance                             391\n",
              "MISP-Private Car OD Only                                  304\n",
              "POS-MOTOR SECURE - PRIVATE CAR                            272\n",
              "Future Secure Private Car Policy - Standalone Own Dam     148\n",
              "FUTURE SECURE COMMERCIAL MOTOR                            120\n",
              "Future Secure Two Wheeler                                 111\n",
              "POS-Private Car OD Only                                   109\n",
              "Future Secure Motor Insurance Policy                       87\n",
              "FUTURE SECURE TWO WHEELER                                  77\n",
              "Future Secure Private Car Policy-Bundled                   70\n",
              "POS-MOTOR SECURE - COMMERCIAL                              61\n",
              "MISP SECURE COMMERCIAL MOTOR                               50\n",
              "POS - Motor Secure Private Car Insurance Policy            46\n",
              "Two Wheeler OD only                                        38\n",
              "POS-Two Wheeler OD Only                                    24\n",
              "POS-MOTOR SECURE - TWO WHEELER                             21\n",
              "Future Secure Two Wheeler Insurance Policy                 15\n",
              "POS - Motor Secure Commercial Vehicle Insurance Polic      13\n",
              "Future Secure Commercial Vehicle Insurance Policy          11\n",
              "Future Secure Two Wheeler Policy-Bundled                    8\n",
              "MISP FUTURE TAXI - COMMERCIAL                               8\n",
              "Future Secure Private Car Package Policy - 3 Years          7\n",
              "POS- Motor Secure Private Car Policy-Bundled                7\n",
              "Future Secure Two Wheeler Policy - Standalone Own Dam       6\n",
              "POS - Motor Secure Two Wheeler Insurance Policy             5\n",
              "MISP-Two Wheeler OD Only                                    5\n",
              "POS - Motor Secure Two Wheeler Policy - Standalone Ow       4\n",
              "LONGTERM TWO WHEELER COMPREHEN                              4\n",
              "MISP SECURE TWO WHEELER                                     4\n",
              "POS - Motor Secure Two Wheeler Insurance Policy-Bundl       3\n",
              "Long Term Two Wheeler Insurance Policy                      3\n",
              "POS - Motor Secure Private Car Package Insurance Poli       2\n",
              "FUTURE TAXI - COMMERCIAL                                    2\n",
              "LONGTERM TWO WHEELER - POS                                  2\n",
              "Name: Contract_Type, dtype: int64"
            ]
          },
          "metadata": {},
          "execution_count": 137
        }
      ]
    },
    {
      "cell_type": "code",
      "source": [
        "final_nps_data['Contract_Type'] = final_nps_data['Contract_Type'].str.replace('  ','_')\n",
        "final_nps_data['Contract_Type'] = final_nps_data['Contract_Type'].str.replace(' ','_')\n",
        "final_nps_data['Contract_Type'] = final_nps_data['Contract_Type'].str.replace('-','_')\n",
        "final_nps_data['Contract_Type'] = final_nps_data['Contract_Type'].str.lower()\n",
        "final_nps_data['Contract_Type'].value_counts()"
      ],
      "metadata": {
        "colab": {
          "base_uri": "https://localhost:8080/"
        },
        "id": "jlkmFiukvEcr",
        "outputId": "332fd08c-d00e-4e49-ea4f-4178f0f918a9"
      },
      "execution_count": null,
      "outputs": [
        {
          "output_type": "execute_result",
          "data": {
            "text/plain": [
              "future_secure_private_car                                2686\n",
              "misp_secure_private_car                                   584\n",
              "private_car_od_only                                       563\n",
              "future_secure_motor_insurance                             391\n",
              "misp_private_car_od_only                                  304\n",
              "pos_motor_secure___private_car                            272\n",
              "future_secure_two_wheeler                                 188\n",
              "future_secure_private_car_policy___standalone_own_dam     148\n",
              "future_secure_commercial_motor                            120\n",
              "pos_private_car_od_only                                   109\n",
              "future_secure_motor_insurance_policy                       87\n",
              "future_secure_private_car_policy_bundled                   70\n",
              "pos_motor_secure___commercial                              61\n",
              "misp_secure_commercial_motor                               50\n",
              "pos___motor_secure_private_car_insurance_policy            46\n",
              "two_wheeler_od_only                                        38\n",
              "pos_two_wheeler_od_only                                    24\n",
              "pos_motor_secure___two_wheeler                             21\n",
              "future_secure_two_wheeler_insurance_policy                 15\n",
              "pos___motor_secure_commercial_vehicle_insurance_polic      13\n",
              "future_secure_commercial_vehicle_insurance_policy          11\n",
              "misp_future_taxi___commercial                               8\n",
              "future_secure_two_wheeler_policy_bundled                    8\n",
              "future_secure_private_car_package_policy___3_years          7\n",
              "pos__motor_secure_private_car_policy_bundled                7\n",
              "future_secure_two_wheeler_policy___standalone_own_dam       6\n",
              "pos___motor_secure_two_wheeler_insurance_policy             5\n",
              "misp_two_wheeler_od_only                                    5\n",
              "pos___motor_secure_two_wheeler_policy___standalone_ow       4\n",
              "longterm_two_wheeler_comprehen                              4\n",
              "misp_secure_two_wheeler                                     4\n",
              "pos___motor_secure_two_wheeler_insurance_policy_bundl       3\n",
              "long_term_two_wheeler_insurance_policy                      3\n",
              "pos___motor_secure_private_car_package_insurance_poli       2\n",
              "future_taxi___commercial                                    2\n",
              "longterm_two_wheeler___pos                                  2\n",
              "Name: Contract_Type, dtype: int64"
            ]
          },
          "metadata": {},
          "execution_count": 138
        }
      ]
    },
    {
      "cell_type": "code",
      "source": [
        "final_nps_data['Survey_finished_mobile'] = final_nps_data['Survey_finished_mobile'].str.lower()\n",
        "final_nps_data['Invitation_Flag'] = final_nps_data['Invitation_Flag'].str.lower()\n",
        "final_nps_data['Claim_Status'] = final_nps_data['Claim_Status'].str.lower()"
      ],
      "metadata": {
        "id": "E6nVuAPiwFor"
      },
      "execution_count": null,
      "outputs": []
    },
    {
      "cell_type": "markdown",
      "source": [
        "Preprocessing Comment Feature:"
      ],
      "metadata": {
        "id": "2C1QNOqky6qz"
      }
    },
    {
      "cell_type": "code",
      "source": [
        "import re\n",
        "\n",
        "def decontracted(phrase):\n",
        "    # specific\n",
        "    phrase = re.sub(r\"won't\", \"will not\", phrase)\n",
        "    phrase = re.sub(r\"can\\'t\", \"can not\", phrase)\n",
        "\n",
        "    # general\n",
        "    phrase = re.sub(r\"n\\'t\", \" not\", phrase)\n",
        "    phrase = re.sub(r\"\\'re\", \" are\", phrase)\n",
        "    phrase = re.sub(r\"\\'s\", \" is\", phrase)\n",
        "    phrase = re.sub(r\"\\'d\", \" would\", phrase)\n",
        "    phrase = re.sub(r\"\\'ll\", \" will\", phrase)\n",
        "    phrase = re.sub(r\"\\'t\", \" not\", phrase)\n",
        "    phrase = re.sub(r\"\\'ve\", \" have\", phrase)\n",
        "    phrase = re.sub(r\"\\'m\", \" am\", phrase)\n",
        "    return phrase"
      ],
      "metadata": {
        "id": "HeckKnhWJ4kh"
      },
      "execution_count": null,
      "outputs": []
    },
    {
      "cell_type": "code",
      "source": [
        "# we are removing the words from the stop words list: 'no', 'nor', 'not'\n",
        "# <br /><br /> ==> after the above steps, we are getting \"br br\"\n",
        "# we are including them into stop words list\n",
        "# instead of <br /> if we have <br/> these tags would have revmoved in the 1st step\n",
        "\n",
        "stopwords= set(['br', 'the', 'i', 'me', 'my', 'myself', 'we', 'our', 'ours', 'ourselves', 'you', \"you're\", \"you've\",\\\n",
        "            \"you'll\", \"you'd\", 'your', 'yours', 'yourself', 'yourselves', 'he', 'him', 'his', 'himself', \\\n",
        "            'she', \"she's\", 'her', 'hers', 'herself', 'it', \"it's\", 'its', 'itself', 'they', 'them', 'their',\\\n",
        "            'theirs', 'themselves', 'what', 'which', 'who', 'whom', 'this', 'that', \"that'll\", 'these', 'those', \\\n",
        "            'am', 'is', 'are', 'was', 'were', 'be', 'been', 'being', 'have', 'has', 'had', 'having', 'do', 'does', \\\n",
        "            'did', 'doing', 'a', 'an', 'the', 'and', 'but', 'if', 'or', 'because', 'as', 'until', 'while', 'of', \\\n",
        "            'at', 'by', 'for', 'with', 'about', 'against', 'between', 'into', 'through', 'during', 'before', 'after',\\\n",
        "            'above', 'below', 'to', 'from', 'up', 'down', 'in', 'out', 'on', 'off', 'over', 'under', 'again', 'further',\\\n",
        "            'then', 'once', 'here', 'there', 'when', 'where', 'why', 'how', 'all', 'any', 'both', 'each', 'few', 'more',\\\n",
        "            'most', 'other', 'some', 'such', 'only', 'own', 'same', 'so', 'than', 'too', 'very', \\\n",
        "            's', 't', 'can', 'will', 'just', 'don', \"don't\", 'should', \"should've\", 'now', 'd', 'll', 'm', 'o', 're', \\\n",
        "            've', 'y', 'ain', 'aren', \"aren't\", 'couldn', \"couldn't\", 'didn', \"didn't\", 'doesn', \"doesn't\", 'hadn',\\\n",
        "            \"hadn't\", 'hasn', \"hasn't\", 'haven', \"haven't\", 'isn', \"isn't\", 'ma', 'mightn', \"mightn't\", 'mustn',\\\n",
        "            \"mustn't\", 'needn', \"needn't\", 'shan', \"shan't\", 'shouldn', \"shouldn't\", 'wasn', \"wasn't\", 'weren', \"weren't\", \\\n",
        "            'won', \"won't\", 'wouldn', \"wouldn't\"])"
      ],
      "metadata": {
        "id": "v6yCffPwr3G2"
      },
      "execution_count": null,
      "outputs": []
    },
    {
      "cell_type": "code",
      "source": [
        "from bs4 import BeautifulSoup\n",
        "from tqdm import tqdm\n",
        "def preprocess_text(text_data):\n",
        "    preprocessed_text = []\n",
        "    # tqdm is for printing the status bar\n",
        "    for sentance in tqdm(text_data):\n",
        "        sent = re.sub(r\"http\\S+\", \"\", sentance)\n",
        "        sent = BeautifulSoup(sentance, 'lxml').get_text()\n",
        "        sent = decontracted(sentance)\n",
        "        sent = re.sub(\"\\S*\\d\\S*\", \"\", sentance).strip()\n",
        "        sent = re.sub('[^A-Za-z]+', ' ', sentance)\n",
        "        sent = decontracted(sentance)\n",
        "        sent = sent.replace('\\\\r', ' ')\n",
        "        sent = sent.replace('\\\\n', ' ')\n",
        "        sent = sent.replace('\\\\\"', ' ')\n",
        "        sent = re.sub('[^A-Za-z0-9]+', ' ', sent)\n",
        "        # https://gist.github.com/sebleier/554280\n",
        "        sent = ' '.join(e for e in sent.split() if e.lower() not in stopwords)\n",
        "        preprocessed_text.append(sent.lower().strip())\n",
        "    return preprocessed_text"
      ],
      "metadata": {
        "id": "48458Bt7w_LY"
      },
      "execution_count": null,
      "outputs": []
    },
    {
      "cell_type": "code",
      "source": [
        "final_nps_data['Comment'] = preprocess_text(final_nps_data['Comment'].values)"
      ],
      "metadata": {
        "colab": {
          "base_uri": "https://localhost:8080/"
        },
        "id": "5FDL2v6HwruW",
        "outputId": "dbbf7633-109c-4903-e98d-0a32eca896b7"
      },
      "execution_count": null,
      "outputs": [
        {
          "output_type": "stream",
          "name": "stderr",
          "text": [
            "100%|██████████| 5871/5871 [00:01<00:00, 3798.73it/s]\n"
          ]
        }
      ]
    },
    {
      "cell_type": "code",
      "source": [
        "final_nps_data.head()"
      ],
      "metadata": {
        "colab": {
          "base_uri": "https://localhost:8080/",
          "height": 424
        },
        "id": "6w5t9FSGxCH_",
        "outputId": "b9af7424-332a-4125-c887-20096a632aa9"
      },
      "execution_count": null,
      "outputs": [
        {
          "output_type": "execute_result",
          "data": {
            "text/plain": [
              "   Survey_Time  Time_taken_respond Survey_finished_mobile  \\\n",
              "0     0.766667           25.388114                    yes   \n",
              "1     0.833333            9.386237                    yes   \n",
              "2     2.983333            6.191316                    yes   \n",
              "3     3.216667           25.076517                    yes   \n",
              "4     4.302450           12.906843                    yes   \n",
              "\n",
              "                                             Comment Invitation_Flag  \\\n",
              "0                                      prompt sevice           email   \n",
              "1                                    good experience           email   \n",
              "2  although response text message claim intimatio...           email   \n",
              "3                 supportive fast work process claim           email   \n",
              "4  jharkhand not provide cashless feature however...             sms   \n",
              "\n",
              "    Account_Type              Contract_Type   Claim_Amount Claim_Status  \\\n",
              "0  general_agent  future_secure_private_car  117136.000000      settled   \n",
              "1         broker  future_secure_private_car   14783.000000      settled   \n",
              "2  general_agent  future_secure_private_car   41539.111559    withdrawn   \n",
              "3         broker    misp_secure_private_car   45488.000000      settled   \n",
              "4  point_of_sale  future_secure_two_wheeler    4100.000000      settled   \n",
              "\n",
              "   Class_label  \n",
              "0            1  \n",
              "1            1  \n",
              "2            1  \n",
              "3            1  \n",
              "4            0  "
            ],
            "text/html": [
              "\n",
              "  <div id=\"df-e3eae764-a94d-4121-8cd8-2dbd7d57cdd2\">\n",
              "    <div class=\"colab-df-container\">\n",
              "      <div>\n",
              "<style scoped>\n",
              "    .dataframe tbody tr th:only-of-type {\n",
              "        vertical-align: middle;\n",
              "    }\n",
              "\n",
              "    .dataframe tbody tr th {\n",
              "        vertical-align: top;\n",
              "    }\n",
              "\n",
              "    .dataframe thead th {\n",
              "        text-align: right;\n",
              "    }\n",
              "</style>\n",
              "<table border=\"1\" class=\"dataframe\">\n",
              "  <thead>\n",
              "    <tr style=\"text-align: right;\">\n",
              "      <th></th>\n",
              "      <th>Survey_Time</th>\n",
              "      <th>Time_taken_respond</th>\n",
              "      <th>Survey_finished_mobile</th>\n",
              "      <th>Comment</th>\n",
              "      <th>Invitation_Flag</th>\n",
              "      <th>Account_Type</th>\n",
              "      <th>Contract_Type</th>\n",
              "      <th>Claim_Amount</th>\n",
              "      <th>Claim_Status</th>\n",
              "      <th>Class_label</th>\n",
              "    </tr>\n",
              "  </thead>\n",
              "  <tbody>\n",
              "    <tr>\n",
              "      <th>0</th>\n",
              "      <td>0.766667</td>\n",
              "      <td>25.388114</td>\n",
              "      <td>yes</td>\n",
              "      <td>prompt sevice</td>\n",
              "      <td>email</td>\n",
              "      <td>general_agent</td>\n",
              "      <td>future_secure_private_car</td>\n",
              "      <td>117136.000000</td>\n",
              "      <td>settled</td>\n",
              "      <td>1</td>\n",
              "    </tr>\n",
              "    <tr>\n",
              "      <th>1</th>\n",
              "      <td>0.833333</td>\n",
              "      <td>9.386237</td>\n",
              "      <td>yes</td>\n",
              "      <td>good experience</td>\n",
              "      <td>email</td>\n",
              "      <td>broker</td>\n",
              "      <td>future_secure_private_car</td>\n",
              "      <td>14783.000000</td>\n",
              "      <td>settled</td>\n",
              "      <td>1</td>\n",
              "    </tr>\n",
              "    <tr>\n",
              "      <th>2</th>\n",
              "      <td>2.983333</td>\n",
              "      <td>6.191316</td>\n",
              "      <td>yes</td>\n",
              "      <td>although response text message claim intimatio...</td>\n",
              "      <td>email</td>\n",
              "      <td>general_agent</td>\n",
              "      <td>future_secure_private_car</td>\n",
              "      <td>41539.111559</td>\n",
              "      <td>withdrawn</td>\n",
              "      <td>1</td>\n",
              "    </tr>\n",
              "    <tr>\n",
              "      <th>3</th>\n",
              "      <td>3.216667</td>\n",
              "      <td>25.076517</td>\n",
              "      <td>yes</td>\n",
              "      <td>supportive fast work process claim</td>\n",
              "      <td>email</td>\n",
              "      <td>broker</td>\n",
              "      <td>misp_secure_private_car</td>\n",
              "      <td>45488.000000</td>\n",
              "      <td>settled</td>\n",
              "      <td>1</td>\n",
              "    </tr>\n",
              "    <tr>\n",
              "      <th>4</th>\n",
              "      <td>4.302450</td>\n",
              "      <td>12.906843</td>\n",
              "      <td>yes</td>\n",
              "      <td>jharkhand not provide cashless feature however...</td>\n",
              "      <td>sms</td>\n",
              "      <td>point_of_sale</td>\n",
              "      <td>future_secure_two_wheeler</td>\n",
              "      <td>4100.000000</td>\n",
              "      <td>settled</td>\n",
              "      <td>0</td>\n",
              "    </tr>\n",
              "  </tbody>\n",
              "</table>\n",
              "</div>\n",
              "      <button class=\"colab-df-convert\" onclick=\"convertToInteractive('df-e3eae764-a94d-4121-8cd8-2dbd7d57cdd2')\"\n",
              "              title=\"Convert this dataframe to an interactive table.\"\n",
              "              style=\"display:none;\">\n",
              "        \n",
              "  <svg xmlns=\"http://www.w3.org/2000/svg\" height=\"24px\"viewBox=\"0 0 24 24\"\n",
              "       width=\"24px\">\n",
              "    <path d=\"M0 0h24v24H0V0z\" fill=\"none\"/>\n",
              "    <path d=\"M18.56 5.44l.94 2.06.94-2.06 2.06-.94-2.06-.94-.94-2.06-.94 2.06-2.06.94zm-11 1L8.5 8.5l.94-2.06 2.06-.94-2.06-.94L8.5 2.5l-.94 2.06-2.06.94zm10 10l.94 2.06.94-2.06 2.06-.94-2.06-.94-.94-2.06-.94 2.06-2.06.94z\"/><path d=\"M17.41 7.96l-1.37-1.37c-.4-.4-.92-.59-1.43-.59-.52 0-1.04.2-1.43.59L10.3 9.45l-7.72 7.72c-.78.78-.78 2.05 0 2.83L4 21.41c.39.39.9.59 1.41.59.51 0 1.02-.2 1.41-.59l7.78-7.78 2.81-2.81c.8-.78.8-2.07 0-2.86zM5.41 20L4 18.59l7.72-7.72 1.47 1.35L5.41 20z\"/>\n",
              "  </svg>\n",
              "      </button>\n",
              "      \n",
              "  <style>\n",
              "    .colab-df-container {\n",
              "      display:flex;\n",
              "      flex-wrap:wrap;\n",
              "      gap: 12px;\n",
              "    }\n",
              "\n",
              "    .colab-df-convert {\n",
              "      background-color: #E8F0FE;\n",
              "      border: none;\n",
              "      border-radius: 50%;\n",
              "      cursor: pointer;\n",
              "      display: none;\n",
              "      fill: #1967D2;\n",
              "      height: 32px;\n",
              "      padding: 0 0 0 0;\n",
              "      width: 32px;\n",
              "    }\n",
              "\n",
              "    .colab-df-convert:hover {\n",
              "      background-color: #E2EBFA;\n",
              "      box-shadow: 0px 1px 2px rgba(60, 64, 67, 0.3), 0px 1px 3px 1px rgba(60, 64, 67, 0.15);\n",
              "      fill: #174EA6;\n",
              "    }\n",
              "\n",
              "    [theme=dark] .colab-df-convert {\n",
              "      background-color: #3B4455;\n",
              "      fill: #D2E3FC;\n",
              "    }\n",
              "\n",
              "    [theme=dark] .colab-df-convert:hover {\n",
              "      background-color: #434B5C;\n",
              "      box-shadow: 0px 1px 3px 1px rgba(0, 0, 0, 0.15);\n",
              "      filter: drop-shadow(0px 1px 2px rgba(0, 0, 0, 0.3));\n",
              "      fill: #FFFFFF;\n",
              "    }\n",
              "  </style>\n",
              "\n",
              "      <script>\n",
              "        const buttonEl =\n",
              "          document.querySelector('#df-e3eae764-a94d-4121-8cd8-2dbd7d57cdd2 button.colab-df-convert');\n",
              "        buttonEl.style.display =\n",
              "          google.colab.kernel.accessAllowed ? 'block' : 'none';\n",
              "\n",
              "        async function convertToInteractive(key) {\n",
              "          const element = document.querySelector('#df-e3eae764-a94d-4121-8cd8-2dbd7d57cdd2');\n",
              "          const dataTable =\n",
              "            await google.colab.kernel.invokeFunction('convertToInteractive',\n",
              "                                                     [key], {});\n",
              "          if (!dataTable) return;\n",
              "\n",
              "          const docLinkHtml = 'Like what you see? Visit the ' +\n",
              "            '<a target=\"_blank\" href=https://colab.research.google.com/notebooks/data_table.ipynb>data table notebook</a>'\n",
              "            + ' to learn more about interactive tables.';\n",
              "          element.innerHTML = '';\n",
              "          dataTable['output_type'] = 'display_data';\n",
              "          await google.colab.output.renderOutput(dataTable, element);\n",
              "          const docLink = document.createElement('div');\n",
              "          docLink.innerHTML = docLinkHtml;\n",
              "          element.appendChild(docLink);\n",
              "        }\n",
              "      </script>\n",
              "    </div>\n",
              "  </div>\n",
              "  "
            ]
          },
          "metadata": {},
          "execution_count": 144
        }
      ]
    }
  ]
}