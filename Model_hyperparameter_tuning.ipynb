{
  "nbformat": 4,
  "nbformat_minor": 0,
  "metadata": {
    "colab": {
      "name": "Model_hyperparameter_tuning.ipynb",
      "provenance": [],
      "collapsed_sections": []
    },
    "kernelspec": {
      "name": "python3",
      "display_name": "Python 3"
    },
    "language_info": {
      "name": "python"
    }
  },
  "cells": [
    {
      "cell_type": "markdown",
      "source": [
        "#Model Algorithm Hyperparameter Tuning:"
      ],
      "metadata": {
        "id": "yNVbumAoFVnB"
      }
    },
    {
      "cell_type": "markdown",
      "source": [
        "####Splitting data into Train and Test: Stratified Sampling"
      ],
      "metadata": {
        "id": "t8vF40tnxMeL"
      }
    },
    {
      "cell_type": "code",
      "source": [
        "# dropping class label column\n",
        "\n",
        "y = final_nps_data['Class_label'].values\n",
        "X = final_nps_data.drop(['Class_label'], axis=1)\n",
        "X.head(1)"
      ],
      "metadata": {
        "colab": {
          "base_uri": "https://localhost:8080/",
          "height": 81
        },
        "id": "63RntUvkxcFt",
        "outputId": "0d361f00-1181-4af3-cf97-5aab8150177a"
      },
      "execution_count": null,
      "outputs": [
        {
          "output_type": "execute_result",
          "data": {
            "text/plain": [
              "   Survey_Time  Time_taken_respond Survey_finished_mobile        Comment  \\\n",
              "0     0.766667           25.388114                    yes  prompt sevice   \n",
              "\n",
              "  Invitation_Flag   Account_Type              Contract_Type  Claim_Amount  \\\n",
              "0           email  general_agent  future_secure_private_car      117136.0   \n",
              "\n",
              "  Claim_Status  \n",
              "0      settled  "
            ],
            "text/html": [
              "\n",
              "  <div id=\"df-a862c44b-3969-45b3-b590-89010f9fab1c\">\n",
              "    <div class=\"colab-df-container\">\n",
              "      <div>\n",
              "<style scoped>\n",
              "    .dataframe tbody tr th:only-of-type {\n",
              "        vertical-align: middle;\n",
              "    }\n",
              "\n",
              "    .dataframe tbody tr th {\n",
              "        vertical-align: top;\n",
              "    }\n",
              "\n",
              "    .dataframe thead th {\n",
              "        text-align: right;\n",
              "    }\n",
              "</style>\n",
              "<table border=\"1\" class=\"dataframe\">\n",
              "  <thead>\n",
              "    <tr style=\"text-align: right;\">\n",
              "      <th></th>\n",
              "      <th>Survey_Time</th>\n",
              "      <th>Time_taken_respond</th>\n",
              "      <th>Survey_finished_mobile</th>\n",
              "      <th>Comment</th>\n",
              "      <th>Invitation_Flag</th>\n",
              "      <th>Account_Type</th>\n",
              "      <th>Contract_Type</th>\n",
              "      <th>Claim_Amount</th>\n",
              "      <th>Claim_Status</th>\n",
              "    </tr>\n",
              "  </thead>\n",
              "  <tbody>\n",
              "    <tr>\n",
              "      <th>0</th>\n",
              "      <td>0.766667</td>\n",
              "      <td>25.388114</td>\n",
              "      <td>yes</td>\n",
              "      <td>prompt sevice</td>\n",
              "      <td>email</td>\n",
              "      <td>general_agent</td>\n",
              "      <td>future_secure_private_car</td>\n",
              "      <td>117136.0</td>\n",
              "      <td>settled</td>\n",
              "    </tr>\n",
              "  </tbody>\n",
              "</table>\n",
              "</div>\n",
              "      <button class=\"colab-df-convert\" onclick=\"convertToInteractive('df-a862c44b-3969-45b3-b590-89010f9fab1c')\"\n",
              "              title=\"Convert this dataframe to an interactive table.\"\n",
              "              style=\"display:none;\">\n",
              "        \n",
              "  <svg xmlns=\"http://www.w3.org/2000/svg\" height=\"24px\"viewBox=\"0 0 24 24\"\n",
              "       width=\"24px\">\n",
              "    <path d=\"M0 0h24v24H0V0z\" fill=\"none\"/>\n",
              "    <path d=\"M18.56 5.44l.94 2.06.94-2.06 2.06-.94-2.06-.94-.94-2.06-.94 2.06-2.06.94zm-11 1L8.5 8.5l.94-2.06 2.06-.94-2.06-.94L8.5 2.5l-.94 2.06-2.06.94zm10 10l.94 2.06.94-2.06 2.06-.94-2.06-.94-.94-2.06-.94 2.06-2.06.94z\"/><path d=\"M17.41 7.96l-1.37-1.37c-.4-.4-.92-.59-1.43-.59-.52 0-1.04.2-1.43.59L10.3 9.45l-7.72 7.72c-.78.78-.78 2.05 0 2.83L4 21.41c.39.39.9.59 1.41.59.51 0 1.02-.2 1.41-.59l7.78-7.78 2.81-2.81c.8-.78.8-2.07 0-2.86zM5.41 20L4 18.59l7.72-7.72 1.47 1.35L5.41 20z\"/>\n",
              "  </svg>\n",
              "      </button>\n",
              "      \n",
              "  <style>\n",
              "    .colab-df-container {\n",
              "      display:flex;\n",
              "      flex-wrap:wrap;\n",
              "      gap: 12px;\n",
              "    }\n",
              "\n",
              "    .colab-df-convert {\n",
              "      background-color: #E8F0FE;\n",
              "      border: none;\n",
              "      border-radius: 50%;\n",
              "      cursor: pointer;\n",
              "      display: none;\n",
              "      fill: #1967D2;\n",
              "      height: 32px;\n",
              "      padding: 0 0 0 0;\n",
              "      width: 32px;\n",
              "    }\n",
              "\n",
              "    .colab-df-convert:hover {\n",
              "      background-color: #E2EBFA;\n",
              "      box-shadow: 0px 1px 2px rgba(60, 64, 67, 0.3), 0px 1px 3px 1px rgba(60, 64, 67, 0.15);\n",
              "      fill: #174EA6;\n",
              "    }\n",
              "\n",
              "    [theme=dark] .colab-df-convert {\n",
              "      background-color: #3B4455;\n",
              "      fill: #D2E3FC;\n",
              "    }\n",
              "\n",
              "    [theme=dark] .colab-df-convert:hover {\n",
              "      background-color: #434B5C;\n",
              "      box-shadow: 0px 1px 3px 1px rgba(0, 0, 0, 0.15);\n",
              "      filter: drop-shadow(0px 1px 2px rgba(0, 0, 0, 0.3));\n",
              "      fill: #FFFFFF;\n",
              "    }\n",
              "  </style>\n",
              "\n",
              "      <script>\n",
              "        const buttonEl =\n",
              "          document.querySelector('#df-a862c44b-3969-45b3-b590-89010f9fab1c button.colab-df-convert');\n",
              "        buttonEl.style.display =\n",
              "          google.colab.kernel.accessAllowed ? 'block' : 'none';\n",
              "\n",
              "        async function convertToInteractive(key) {\n",
              "          const element = document.querySelector('#df-a862c44b-3969-45b3-b590-89010f9fab1c');\n",
              "          const dataTable =\n",
              "            await google.colab.kernel.invokeFunction('convertToInteractive',\n",
              "                                                     [key], {});\n",
              "          if (!dataTable) return;\n",
              "\n",
              "          const docLinkHtml = 'Like what you see? Visit the ' +\n",
              "            '<a target=\"_blank\" href=https://colab.research.google.com/notebooks/data_table.ipynb>data table notebook</a>'\n",
              "            + ' to learn more about interactive tables.';\n",
              "          element.innerHTML = '';\n",
              "          dataTable['output_type'] = 'display_data';\n",
              "          await google.colab.output.renderOutput(dataTable, element);\n",
              "          const docLink = document.createElement('div');\n",
              "          docLink.innerHTML = docLinkHtml;\n",
              "          element.appendChild(docLink);\n",
              "        }\n",
              "      </script>\n",
              "    </div>\n",
              "  </div>\n",
              "  "
            ]
          },
          "metadata": {},
          "execution_count": 145
        }
      ]
    },
    {
      "cell_type": "code",
      "source": [
        "# train test split\n",
        "from sklearn.model_selection import train_test_split\n",
        "X_train, X_test, y_train, y_test = train_test_split(X, y, test_size=0.2, stratify=y)"
      ],
      "metadata": {
        "id": "PHPXX7IvxRFX"
      },
      "execution_count": null,
      "outputs": []
    },
    {
      "cell_type": "code",
      "source": [
        "print(X_train.shape,y_train.shape)\n",
        "print(X_test.shape,y_test.shape)"
      ],
      "metadata": {
        "colab": {
          "base_uri": "https://localhost:8080/"
        },
        "id": "v8C1xzHpyelZ",
        "outputId": "5f593929-4ba9-49c6-f9d1-7a05750dcf5c"
      },
      "execution_count": null,
      "outputs": [
        {
          "output_type": "stream",
          "name": "stdout",
          "text": [
            "(4696, 9) (4696,)\n",
            "(1175, 9) (1175,)\n"
          ]
        }
      ]
    },
    {
      "cell_type": "markdown",
      "source": [
        "####Make Data Model Ready: encoding comments"
      ],
      "metadata": {
        "id": "y9i3su4bxsfg"
      }
    },
    {
      "cell_type": "code",
      "source": [
        "from sklearn.feature_extraction.text import TfidfVectorizer\n",
        "from sklearn.feature_extraction.text import CountVectorizer\n",
        "\n",
        "#encoding comments into bag of words\n",
        "\n",
        "vectorizer = CountVectorizer(min_df=10,ngram_range=(1,4), max_features=6500)\n",
        "vectorizer.fit(X_train['Comment'].values)\n",
        "\n",
        "X_train_comments_bow = vectorizer.transform(X_train['Comment'].values)\n",
        "X_test_comments_bow = vectorizer.transform(X_test['Comment'].values)\n",
        "\n",
        "print(X_train_comments_bow.shape, y_train.shape)\n",
        "\n",
        "feauture_names= vectorizer.get_feature_names()"
      ],
      "metadata": {
        "colab": {
          "base_uri": "https://localhost:8080/"
        },
        "id": "F0F0Jcgjxvjd",
        "outputId": "6c16bade-3163-4f81-f785-4766c22810f7"
      },
      "execution_count": null,
      "outputs": [
        {
          "output_type": "stream",
          "name": "stdout",
          "text": [
            "(4696, 434) (4696,)\n"
          ]
        }
      ]
    },
    {
      "cell_type": "code",
      "source": [
        "#encoding comments into tf-idf vectors\n",
        "\n",
        "vectorizer = TfidfVectorizer(min_df=10,ngram_range=(1,4), max_features=6500)\n",
        "vectorizer.fit(X_train['Comment'].values)\n",
        "\n",
        "X_train_comments_tfidf = vectorizer.transform(X_train['Comment'].values)\n",
        "X_test_comments_tfidf = vectorizer.transform(X_test['Comment'].values)\n",
        "\n",
        "print(X_train_comments_tfidf.shape, y_train.shape)\n",
        "\n",
        "feauture_names= vectorizer.get_feature_names()"
      ],
      "metadata": {
        "colab": {
          "base_uri": "https://localhost:8080/"
        },
        "id": "h3NsBPWAyrYV",
        "outputId": "32673e8d-62eb-4136-bcdc-d0e00137a6ad"
      },
      "execution_count": null,
      "outputs": [
        {
          "output_type": "stream",
          "name": "stdout",
          "text": [
            "(4696, 434) (4696,)\n"
          ]
        }
      ]
    },
    {
      "cell_type": "markdown",
      "source": [
        "####Make Data Model Ready: encoding numerical, categorical features"
      ],
      "metadata": {
        "id": "Apap30gQzPdf"
      }
    },
    {
      "cell_type": "code",
      "source": [
        "#encoding Survey_finished_mobile into one hot encoding\n",
        "\n",
        "vectorizer = CountVectorizer()\n",
        "vectorizer.fit(X_train['Survey_finished_mobile'].values)\n",
        "\n",
        "X_train_Survey_finished_mobile_ohe = vectorizer.transform(X_train['Survey_finished_mobile'].values)\n",
        "X_test_Survey_finished_mobile_ohe = vectorizer.transform(X_test['Survey_finished_mobile'].values)\n",
        "\n",
        "print(X_train_Survey_finished_mobile_ohe.shape, y_train.shape)"
      ],
      "metadata": {
        "colab": {
          "base_uri": "https://localhost:8080/"
        },
        "id": "SbmGLMztzRCB",
        "outputId": "c774a1ec-4e67-4204-8419-d73586591032"
      },
      "execution_count": null,
      "outputs": [
        {
          "output_type": "stream",
          "name": "stdout",
          "text": [
            "(4696, 2) (4696,)\n"
          ]
        }
      ]
    },
    {
      "cell_type": "code",
      "source": [
        "#encoding Invitation_Flag into one hot encoding\n",
        "\n",
        "vectorizer = CountVectorizer()\n",
        "vectorizer.fit(X_train['Invitation_Flag'].values)\n",
        "\n",
        "X_train_Invitation_Flag_ohe = vectorizer.transform(X_train['Invitation_Flag'].values)\n",
        "X_test_Invitation_Flag_ohe = vectorizer.transform(X_test['Invitation_Flag'].values)\n",
        "\n",
        "print(X_train_Invitation_Flag_ohe.shape, y_train.shape)"
      ],
      "metadata": {
        "colab": {
          "base_uri": "https://localhost:8080/"
        },
        "id": "tgMAmSOAz4KC",
        "outputId": "7f58979b-8c67-4dc5-a220-896a96e23bd6"
      },
      "execution_count": null,
      "outputs": [
        {
          "output_type": "stream",
          "name": "stdout",
          "text": [
            "(4696, 2) (4696,)\n"
          ]
        }
      ]
    },
    {
      "cell_type": "code",
      "source": [
        "#encoding Account_Type into one hot encoding\n",
        "\n",
        "vectorizer = CountVectorizer()\n",
        "vectorizer.fit(X_train['Account_Type'].values)\n",
        "\n",
        "X_train_Account_Type_ohe = vectorizer.transform(X_train['Account_Type'].values)\n",
        "X_test_Account_Type_ohe = vectorizer.transform(X_test['Account_Type'].values)\n",
        "\n",
        "print(X_train_Account_Type_ohe.shape, y_train.shape)"
      ],
      "metadata": {
        "colab": {
          "base_uri": "https://localhost:8080/"
        },
        "id": "fv5UOsN00DJ8",
        "outputId": "d48b42ab-3179-4410-abd1-c51a45832eeb"
      },
      "execution_count": null,
      "outputs": [
        {
          "output_type": "stream",
          "name": "stdout",
          "text": [
            "(4696, 11) (4696,)\n"
          ]
        }
      ]
    },
    {
      "cell_type": "code",
      "source": [
        "#encoding Contract_Type into one hot encoding\n",
        "\n",
        "vectorizer = CountVectorizer()\n",
        "vectorizer.fit(X_train['Contract_Type'].values)\n",
        "\n",
        "X_train_Contract_Type_ohe = vectorizer.transform(X_train['Contract_Type'].values)\n",
        "X_test_Contract_Type_ohe = vectorizer.transform(X_test['Contract_Type'].values)\n",
        "\n",
        "print(X_train_Contract_Type_ohe.shape, y_train.shape)"
      ],
      "metadata": {
        "colab": {
          "base_uri": "https://localhost:8080/"
        },
        "id": "1BXzdnUD0M9L",
        "outputId": "01238115-456f-48d2-f621-4c19d6d2320c"
      },
      "execution_count": null,
      "outputs": [
        {
          "output_type": "stream",
          "name": "stdout",
          "text": [
            "(4696, 36) (4696,)\n"
          ]
        }
      ]
    },
    {
      "cell_type": "code",
      "source": [
        "#encoding Claim_Status into one hot encoding\n",
        "\n",
        "vectorizer = CountVectorizer()\n",
        "vectorizer.fit(X_train['Claim_Status'].values)\n",
        "\n",
        "X_train_Claim_Status_ohe = vectorizer.transform(X_train['Claim_Status'].values)\n",
        "X_test_Claim_Status_ohe = vectorizer.transform(X_test['Claim_Status'].values)\n",
        "\n",
        "print(X_train_Claim_Status_ohe.shape, y_train.shape)"
      ],
      "metadata": {
        "colab": {
          "base_uri": "https://localhost:8080/"
        },
        "id": "P6nXd2HB0ZsM",
        "outputId": "5ce22254-65cb-44bd-f79b-82ddae538f71"
      },
      "execution_count": null,
      "outputs": [
        {
          "output_type": "stream",
          "name": "stdout",
          "text": [
            "(4696, 10) (4696,)\n"
          ]
        }
      ]
    },
    {
      "cell_type": "code",
      "source": [
        "# encoding numerical feauture Survey_Time\n",
        "\n",
        "from sklearn.preprocessing import Normalizer\n",
        "normalizer = Normalizer()\n",
        "normalizer.fit(X_train['Survey_Time'].values.reshape(-1,1))\n",
        "\n",
        "X_train_Survey_Time_norm = normalizer.transform(X_train['Survey_Time'].values.reshape(-1,1))\n",
        "X_test_Survey_Time_norm = normalizer.transform(X_test['Survey_Time'].values.reshape(-1,1))\n",
        "\n",
        "print(X_train_Survey_Time_norm.shape, y_train.shape)"
      ],
      "metadata": {
        "colab": {
          "base_uri": "https://localhost:8080/"
        },
        "id": "dEVspE5o09Rr",
        "outputId": "4f4105c0-149d-4b92-fa12-45a968edf697"
      },
      "execution_count": null,
      "outputs": [
        {
          "output_type": "stream",
          "name": "stdout",
          "text": [
            "(4696, 1) (4696,)\n"
          ]
        }
      ]
    },
    {
      "cell_type": "code",
      "source": [
        "# encoding numerical feauture Time_taken_respond\n",
        "\n",
        "from sklearn.preprocessing import Normalizer\n",
        "normalizer = Normalizer()\n",
        "normalizer.fit(X_train['Time_taken_respond'].values.reshape(-1,1))\n",
        "\n",
        "X_train_Time_taken_respond_norm = normalizer.transform(X_train['Time_taken_respond'].values.reshape(-1,1))\n",
        "X_test_Time_taken_respond_norm = normalizer.transform(X_test['Time_taken_respond'].values.reshape(-1,1))\n",
        "\n",
        "print(X_train_Time_taken_respond_norm.shape, y_train.shape)"
      ],
      "metadata": {
        "colab": {
          "base_uri": "https://localhost:8080/"
        },
        "id": "4mWzVtBg1Kjy",
        "outputId": "9a7a94b3-037d-493c-e6cd-e470f6f62c42"
      },
      "execution_count": null,
      "outputs": [
        {
          "output_type": "stream",
          "name": "stdout",
          "text": [
            "(4696, 1) (4696,)\n"
          ]
        }
      ]
    },
    {
      "cell_type": "code",
      "source": [
        "# encoding numerical feauture Claim_Amount\n",
        "\n",
        "from sklearn.preprocessing import Normalizer\n",
        "normalizer = Normalizer()\n",
        "normalizer.fit(X_train['Claim_Amount'].values.reshape(-1,1))\n",
        "\n",
        "X_train_Claim_Amount_norm = normalizer.transform(X_train['Claim_Amount'].values.reshape(-1,1))\n",
        "X_test_Claim_Amount_norm = normalizer.transform(X_test['Claim_Amount'].values.reshape(-1,1))\n",
        "\n",
        "print(X_train_Claim_Amount_norm.shape, y_train.shape)"
      ],
      "metadata": {
        "colab": {
          "base_uri": "https://localhost:8080/"
        },
        "id": "gfSMQKRO1dC1",
        "outputId": "053ba5e4-4a29-43e8-d18a-f66b58018afd"
      },
      "execution_count": null,
      "outputs": [
        {
          "output_type": "stream",
          "name": "stdout",
          "text": [
            "(4696, 1) (4696,)\n"
          ]
        }
      ]
    },
    {
      "cell_type": "code",
      "source": [
        "# stacking all features horizantally bow_comments\n",
        "\n",
        "from scipy.sparse import hstack\n",
        "X_tr = hstack((X_train_comments_bow,X_train_Survey_finished_mobile_ohe,X_train_Invitation_Flag_ohe,X_train_Account_Type_ohe,X_train_Contract_Type_ohe,X_train_Claim_Status_ohe,X_train_Survey_Time_norm,X_train_Time_taken_respond_norm,X_train_Claim_Amount_norm)).tocsr()\n",
        "X_te = hstack((X_test_comments_bow,X_test_Survey_finished_mobile_ohe,X_test_Invitation_Flag_ohe,X_test_Account_Type_ohe,X_test_Contract_Type_ohe,X_test_Claim_Status_ohe,X_test_Survey_Time_norm,X_test_Time_taken_respond_norm,X_test_Claim_Amount_norm)).tocsr()\n",
        "\n",
        "print(X_tr.shape, y_train.shape)\n",
        "print(X_te.shape, y_test.shape)"
      ],
      "metadata": {
        "colab": {
          "base_uri": "https://localhost:8080/"
        },
        "id": "ufCmbtyw1xKh",
        "outputId": "e48a7a4d-c6d8-4db9-f14f-a7d73c827cee"
      },
      "execution_count": null,
      "outputs": [
        {
          "output_type": "stream",
          "name": "stdout",
          "text": [
            "(4696, 498) (4696,)\n",
            "(1175, 498) (1175,)\n"
          ]
        }
      ]
    },
    {
      "cell_type": "code",
      "source": [
        "from sklearn.tree import DecisionTreeClassifier\n",
        "from sklearn.model_selection import GridSearchCV\n",
        "hyper_param = {'min_samples_split':[5, 10, 100, 500],'max_depth': [1, 3, 10, 30]}\n",
        "model = GridSearchCV(DecisionTreeClassifier(), hyper_param,scoring='roc_auc', cv=3)\n",
        "model.fit(X_tr, y_train)"
      ],
      "metadata": {
        "colab": {
          "base_uri": "https://localhost:8080/"
        },
        "id": "-jWdOaIy3syN",
        "outputId": "deef5b27-1b0a-45ec-c413-5cce3247ef14"
      },
      "execution_count": null,
      "outputs": [
        {
          "output_type": "execute_result",
          "data": {
            "text/plain": [
              "GridSearchCV(cv=3, estimator=DecisionTreeClassifier(),\n",
              "             param_grid={'max_depth': [1, 3, 10, 30],\n",
              "                         'min_samples_split': [5, 10, 100, 500]},\n",
              "             scoring='roc_auc')"
            ]
          },
          "metadata": {},
          "execution_count": 159
        }
      ]
    },
    {
      "cell_type": "code",
      "source": [
        "best_RF_model = model.best_estimator_\n",
        "best_RF_model"
      ],
      "metadata": {
        "colab": {
          "base_uri": "https://localhost:8080/"
        },
        "id": "zgB5p4yb4Xb2",
        "outputId": "60d82e56-8cc8-42fd-8f92-6ea8a2bf342a"
      },
      "execution_count": null,
      "outputs": [
        {
          "output_type": "execute_result",
          "data": {
            "text/plain": [
              "DecisionTreeClassifier(max_depth=30, min_samples_split=500)"
            ]
          },
          "metadata": {},
          "execution_count": 160
        }
      ]
    },
    {
      "cell_type": "code",
      "source": [
        "best_RF_model.fit(X_tr, y_train)\n",
        "y_train_pred_RF = best_RF_model.predict(X_tr)\n",
        "y_test_pred_RF = best_RF_model.predict(X_te)"
      ],
      "metadata": {
        "id": "0OnQOI9p-a_C"
      },
      "execution_count": null,
      "outputs": []
    },
    {
      "cell_type": "code",
      "source": [
        "from sklearn.metrics import roc_auc_score\n",
        "\n",
        "print('train f1 score', roc_auc_score(y_train, y_train_pred_RF))\n",
        "print('test f1 score', roc_auc_score(y_test, y_test_pred_RF))"
      ],
      "metadata": {
        "colab": {
          "base_uri": "https://localhost:8080/"
        },
        "id": "IM_hR73NAcvB",
        "outputId": "0cb57126-3463-46c6-c2ce-c3080bdddb32"
      },
      "execution_count": null,
      "outputs": [
        {
          "output_type": "stream",
          "name": "stdout",
          "text": [
            "train f1 score 0.8030405495442674\n",
            "test f1 score 0.7931327129677703\n"
          ]
        }
      ]
    },
    {
      "cell_type": "code",
      "source": [
        "# stacking all features horizantally bow_comments\n",
        "\n",
        "from scipy.sparse import hstack\n",
        "X_tr = hstack((X_train_comments_tfidf,X_train_Survey_finished_mobile_ohe,X_train_Invitation_Flag_ohe,X_train_Account_Type_ohe,X_train_Contract_Type_ohe,X_train_Claim_Status_ohe,X_train_Survey_Time_norm,X_train_Time_taken_respond_norm,X_train_Claim_Amount_norm)).tocsr()\n",
        "X_te = hstack((X_test_comments_tfidf,X_test_Survey_finished_mobile_ohe,X_test_Invitation_Flag_ohe,X_test_Account_Type_ohe,X_test_Contract_Type_ohe,X_test_Claim_Status_ohe,X_test_Survey_Time_norm,X_test_Time_taken_respond_norm,X_test_Claim_Amount_norm)).tocsr()\n",
        "\n",
        "print(X_tr.shape, y_train.shape)\n",
        "print(X_te.shape, y_test.shape)"
      ],
      "metadata": {
        "colab": {
          "base_uri": "https://localhost:8080/"
        },
        "id": "ENXjDLhIBkB7",
        "outputId": "51bbea94-889a-4da6-931b-a1a98b45c493"
      },
      "execution_count": null,
      "outputs": [
        {
          "output_type": "stream",
          "name": "stdout",
          "text": [
            "(4696, 498) (4696,)\n",
            "(1175, 498) (1175,)\n"
          ]
        }
      ]
    },
    {
      "cell_type": "code",
      "source": [
        "from sklearn.tree import DecisionTreeClassifier\n",
        "from sklearn.model_selection import GridSearchCV\n",
        "hyper_param = {'min_samples_split':[5, 10, 100, 500],'max_depth': [1, 3, 10, 30]}\n",
        "model_tfidf = GridSearchCV(DecisionTreeClassifier(), hyper_param,scoring='roc_auc', cv=3)\n",
        "model_tfidf.fit(X_tr, y_train)"
      ],
      "metadata": {
        "colab": {
          "base_uri": "https://localhost:8080/"
        },
        "id": "gzRJIRt0BzTI",
        "outputId": "19acce5a-9730-4f15-ba23-621ddd5103c9"
      },
      "execution_count": null,
      "outputs": [
        {
          "output_type": "execute_result",
          "data": {
            "text/plain": [
              "GridSearchCV(cv=3, estimator=DecisionTreeClassifier(),\n",
              "             param_grid={'max_depth': [1, 3, 10, 30],\n",
              "                         'min_samples_split': [5, 10, 100, 500]},\n",
              "             scoring='roc_auc')"
            ]
          },
          "metadata": {},
          "execution_count": 164
        }
      ]
    },
    {
      "cell_type": "code",
      "source": [
        "best_RF_tfidf_model = model.best_estimator_\n",
        "best_RF_tfidf_model"
      ],
      "metadata": {
        "colab": {
          "base_uri": "https://localhost:8080/"
        },
        "id": "q8jwM1k8B98T",
        "outputId": "013ad70c-db41-4d5f-9a82-c65e9a5e3f3c"
      },
      "execution_count": null,
      "outputs": [
        {
          "output_type": "execute_result",
          "data": {
            "text/plain": [
              "DecisionTreeClassifier(max_depth=30, min_samples_split=500)"
            ]
          },
          "metadata": {},
          "execution_count": 165
        }
      ]
    },
    {
      "cell_type": "code",
      "source": [
        "best_RF_model.fit(X_tr, y_train)\n",
        "y_train_pred_RF_tfidf = best_RF_tfidf_model.predict(X_tr)\n",
        "y_test_pred_RF_tfidf = best_RF_tfidf_model.predict(X_te)"
      ],
      "metadata": {
        "id": "zPL-AxyiCFH_"
      },
      "execution_count": null,
      "outputs": []
    },
    {
      "cell_type": "code",
      "source": [
        "from sklearn.metrics import roc_auc_score\n",
        "\n",
        "print('train f1 score', roc_auc_score(y_train, y_train_pred_RF_tfidf))\n",
        "print('test f1 score', roc_auc_score(y_test, y_test_pred_RF_tfidf))"
      ],
      "metadata": {
        "colab": {
          "base_uri": "https://localhost:8080/"
        },
        "id": "Vzxahpe1CQif",
        "outputId": "7f05a040-ba03-4216-8c88-29ddee849140"
      },
      "execution_count": null,
      "outputs": [
        {
          "output_type": "stream",
          "name": "stdout",
          "text": [
            "train f1 score 0.8244296679281489\n",
            "test f1 score 0.7760094252965375\n"
          ]
        }
      ]
    },
    {
      "cell_type": "markdown",
      "source": [
        "# Conclusion:\n",
        "\n",
        "Let's tabulate the results."
      ],
      "metadata": {
        "id": "z8lnFlwYDoy_"
      }
    },
    {
      "cell_type": "code",
      "source": [
        "# tabulate results\n",
        "from prettytable import PrettyTable\n",
        "x = PrettyTable()\n",
        "\n",
        "x.field_names = [\"Vectorizer\", \"Model\", \"AUC Score\"]\n",
        "x.add_rows(\n",
        "    [\n",
        "        [\"BOW\", 'DecisionTreeClassifier', roc_auc_score(y_test, y_test_pred_RF)],\n",
        "        [\"TF_IDF\",'DecisionTreeClassifier',roc_auc_score(y_test, y_test_pred_RF_tfidf)],\n",
        "    ]\n",
        ")\n",
        "\n",
        "print(x)"
      ],
      "metadata": {
        "colab": {
          "base_uri": "https://localhost:8080/"
        },
        "id": "v4MNbmyVCw5F",
        "outputId": "db6cd4da-dc65-4076-ba44-0afbca46cd3b"
      },
      "execution_count": null,
      "outputs": [
        {
          "output_type": "stream",
          "name": "stdout",
          "text": [
            "+------------+------------------------+--------------------+\n",
            "| Vectorizer |         Model          |     AUC Score      |\n",
            "+------------+------------------------+--------------------+\n",
            "|    BOW     | DecisionTreeClassifier | 0.7931327129677703 |\n",
            "|   TF_IDF   | DecisionTreeClassifier | 0.7760094252965375 |\n",
            "+------------+------------------------+--------------------+\n"
          ]
        }
      ]
    },
    {
      "cell_type": "markdown",
      "source": [
        "*   Here we can see auc score from random forest model is 79%.\n",
        "*   As number of feedbacks are less we can improve the performance by collecting more feedbacks.\n",
        "*   Also performance of model can be improved by using complex model.\n",
        "\n",
        "\n",
        "\n"
      ],
      "metadata": {
        "id": "b3Fpg4n_D7Jt"
      }
    }
  ]
}